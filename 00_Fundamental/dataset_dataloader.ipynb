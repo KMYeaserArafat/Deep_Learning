{
 "cells": [
  {
   "cell_type": "markdown",
   "metadata": {},
   "source": [
    "### Dataset Dataloader"
   ]
  },
  {
   "cell_type": "code",
   "execution_count": 2,
   "metadata": {},
   "outputs": [],
   "source": [
    "import torch\n",
    "from torch.utils.data import Dataset,DataLoader,TensorDataset"
   ]
  },
  {
   "cell_type": "code",
   "execution_count": 3,
   "metadata": {},
   "outputs": [],
   "source": [
    "x = torch.arange(12, dtype=torch.float32)"
   ]
  },
  {
   "cell_type": "code",
   "execution_count": 4,
   "metadata": {},
   "outputs": [
    {
     "data": {
      "text/plain": [
       "tensor([ 0.,  1.,  2.,  3.,  4.,  5.,  6.,  7.,  8.,  9., 10., 11.])"
      ]
     },
     "execution_count": 4,
     "metadata": {},
     "output_type": "execute_result"
    }
   ],
   "source": [
    "x"
   ]
  },
  {
   "cell_type": "code",
   "execution_count": 10,
   "metadata": {},
   "outputs": [
    {
     "data": {
      "text/plain": [
       "<torch.utils.data.dataloader.DataLoader at 0x1f5317da5d0>"
      ]
     },
     "execution_count": 10,
     "metadata": {},
     "output_type": "execute_result"
    }
   ],
   "source": [
    "data_loader = DataLoader(x, batch_size=4,shuffle=True)\n",
    "data_loader"
   ]
  },
  {
   "cell_type": "code",
   "execution_count": 11,
   "metadata": {},
   "outputs": [
    {
     "name": "stdout",
     "output_type": "stream",
     "text": [
      "tensor([ 7., 10.,  1.,  4.])\n",
      "tensor([0., 2., 9., 5.])\n",
      "tensor([ 3., 11.,  8.,  6.])\n"
     ]
    }
   ],
   "source": [
    "for data in data_loader:\n",
    "    print(data)"
   ]
  },
  {
   "cell_type": "code",
   "execution_count": 16,
   "metadata": {},
   "outputs": [],
   "source": [
    "from sklearn.datasets import make_classification\n",
    "\n",
    "x,y = make_classification(n_samples=10)\n"
   ]
  },
  {
   "cell_type": "code",
   "execution_count": 17,
   "metadata": {},
   "outputs": [
    {
     "data": {
      "text/plain": [
       "(10, 20)"
      ]
     },
     "execution_count": 17,
     "metadata": {},
     "output_type": "execute_result"
    }
   ],
   "source": [
    "x.shape"
   ]
  },
  {
   "cell_type": "code",
   "execution_count": 18,
   "metadata": {},
   "outputs": [
    {
     "data": {
      "text/plain": [
       "(10,)"
      ]
     },
     "execution_count": 18,
     "metadata": {},
     "output_type": "execute_result"
    }
   ],
   "source": [
    "y.shape"
   ]
  },
  {
   "cell_type": "code",
   "execution_count": 19,
   "metadata": {},
   "outputs": [],
   "source": [
    "dataset = TensorDataset(torch.Tensor(x), torch.Tensor(y))"
   ]
  },
  {
   "cell_type": "code",
   "execution_count": 21,
   "metadata": {},
   "outputs": [
    {
     "data": {
      "text/plain": [
       "<torch.utils.data.dataloader.DataLoader at 0x1f541c69910>"
      ]
     },
     "execution_count": 21,
     "metadata": {},
     "output_type": "execute_result"
    }
   ],
   "source": [
    "data_loader = DataLoader(dataset,batch_size=3, shuffle=True)\n",
    "data_loader"
   ]
  },
  {
   "cell_type": "code",
   "execution_count": 22,
   "metadata": {},
   "outputs": [
    {
     "name": "stdout",
     "output_type": "stream",
     "text": [
      "[0] : [tensor([[ 0.7092, -0.4464, -0.9793, -1.6441,  1.0827,  0.8191, -0.3971,  0.5808,\n",
      "         -0.5140, -0.9782, -1.3709, -0.0156,  1.2297, -0.8654, -1.9708, -0.2633,\n",
      "         -0.0947,  0.7348,  0.3033,  0.7709],\n",
      "        [ 0.6342,  0.8862, -0.5827, -2.2421, -0.1569, -1.5771, -0.5553, -0.7716,\n",
      "          0.4308, -1.2789,  1.0776, -1.8341,  0.9784,  0.0779, -0.2081, -0.2253,\n",
      "         -0.9102,  0.8384, -0.4900, -0.8613],\n",
      "        [ 0.9574, -0.3610, -1.5313,  0.1258, -0.5666,  0.4959, -0.6513, -1.3308,\n",
      "          1.7130,  0.6646, -1.2661,  0.0990,  0.8407, -0.2435, -0.7959,  0.1661,\n",
      "         -0.6357,  0.5583, -1.1619, -0.3229]]), tensor([1., 1., 0.])]\n",
      "[1] : [tensor([[-0.2965,  0.0385, -1.6419,  0.1392,  0.1847,  0.1211, -0.0355, -0.0281,\n",
      "          0.2169,  1.0772,  1.6439, -0.5898, -0.1693, -1.3550, -1.0600,  0.1858,\n",
      "          0.4770,  0.0173, -1.0466,  0.7880],\n",
      "        [ 0.8361,  2.3427, -0.3444,  0.2330,  0.8701, -0.7660,  0.7728,  0.8145,\n",
      "          1.0891,  0.6253, -0.1356,  1.3684,  0.2401,  0.0385,  1.3039,  0.0501,\n",
      "         -0.8606, -1.1567, -0.4099,  1.3643],\n",
      "        [-0.0728,  1.4375,  1.0111, -0.3602,  1.1609, -0.7719, -1.0288,  1.0266,\n",
      "         -0.8842,  0.3725,  0.9087, -0.6214,  0.7577,  0.0432, -0.5846, -0.0188,\n",
      "         -0.5968, -2.4426, -0.5618,  1.5766]]), tensor([0., 1., 1.])]\n",
      "[2] : [tensor([[ 0.7153,  2.1790,  1.9144,  0.3497, -1.1180, -1.2655,  0.7613, -0.2113,\n",
      "          0.4659, -0.4252,  0.2524,  0.2907,  0.1903,  1.3684, -0.8928,  0.0057,\n",
      "         -0.4884, -0.0495, -1.0860, -1.5534],\n",
      "        [-1.3108, -0.7794, -0.6725,  0.4856, -0.7613, -0.5731, -0.7171, -0.1105,\n",
      "          0.3504,  0.5868,  0.5601, -0.1830,  0.1772, -0.9828, -0.9680,  0.1664,\n",
      "          0.4828, -0.4053, -0.0839, -0.5953],\n",
      "        [ 0.4662, -1.8131, -0.8446,  1.9176, -1.3208,  0.1930, -0.8916,  0.8351,\n",
      "         -2.1773,  0.3130, -0.8872, -0.1888,  0.6343, -0.5285, -1.0556,  0.1580,\n",
      "         -1.7182, -0.4238, -0.6476, -1.4048]]), tensor([0., 0., 0.])]\n",
      "[3] : [tensor([[ 1.4118,  0.2201,  1.3258,  0.1328,  1.8112,  0.7619,  0.0745,  1.2392,\n",
      "         -1.3075, -1.0577,  0.1178, -1.0362, -0.1156,  0.6288, -0.2691, -0.3332,\n",
      "          1.0579,  1.5132,  0.0900,  1.5949]]), tensor([1.])]\n"
     ]
    }
   ],
   "source": [
    "for index,data in enumerate(data_loader):\n",
    "    print(f'[{index}] : {data}')"
   ]
  }
 ],
 "metadata": {
  "kernelspec": {
   "display_name": "Python 3",
   "language": "python",
   "name": "python3"
  },
  "language_info": {
   "codemirror_mode": {
    "name": "ipython",
    "version": 3
   },
   "file_extension": ".py",
   "mimetype": "text/x-python",
   "name": "python",
   "nbconvert_exporter": "python",
   "pygments_lexer": "ipython3",
   "version": "3.11.4"
  }
 },
 "nbformat": 4,
 "nbformat_minor": 2
}
